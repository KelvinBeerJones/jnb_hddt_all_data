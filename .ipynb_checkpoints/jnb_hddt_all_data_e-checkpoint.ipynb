{
 "cells": [
  {
   "cell_type": "markdown",
   "metadata": {},
   "source": [
    "# Bigraph nodes (Names) and edges (with attributes) #\n",
    "\n",
    "## This workbook  ##"
   ]
  },
  {
   "cell_type": "code",
   "execution_count": 13,
   "metadata": {},
   "outputs": [],
   "source": [
    "import csv\n",
    "from operator import itemgetter\n",
    "import networkx as nx\n",
    "from networkx.algorithms import community #This part of networkx, for community detection, needs to be imported separately.\n",
    "import nbconvert"
   ]
  },
  {
   "cell_type": "code",
   "execution_count": 14,
   "metadata": {},
   "outputs": [],
   "source": [
    "with open('vw_3_all_names_attributes.csv', 'r') as nodecsv: # Open the Nodes csv file\n",
    "    nodereader = csv.reader(nodecsv) # Read the csv\n",
    "    nodes = [n for n in nodereader][1:]# Retrieve the data (using Python list comprhension and list slicing\n",
    "                                       # to remove the header row\n",
    "    node_names = [n[0] for n in nodes] # Get a list of only the node names\n",
    "\n",
    "with open('vw_3_all_bipartite_attributes.csv', 'r') as edgecsv: # Open the file\n",
    "    edgereader = csv.reader(edgecsv) # Read the csv\n",
    "    edge_list = list(edgereader) # Convert to list, so can iterate below in for loop\n",
    "    \n",
    "    # Create empty arrays to store edge data and edge attribute data\n",
    "    edges = []\n",
    "    edges_attributes = []\n",
    "    \n",
    "    # Fill the arrays with data from CSV\n",
    "    for e in edge_list[1:]:\n",
    "        edges.append(tuple(e[0:2])) # Get the first 2 columns (source, target) and add to array\n",
    "        edges_attributes.append(tuple(e[2:4])) # Get the 3rd and 4th columns (first_year, last_year) and add to array\n",
    "    \n",
    "edge_names = [e[0] for e in edges] # Get a list of only the edge names   \n"
   ]
  },
  {
   "cell_type": "code",
   "execution_count": 15,
   "metadata": {},
   "outputs": [
    {
     "name": "stdout",
     "output_type": "stream",
     "text": [
      "Nodes length:  3609\n",
      "Edges length:  10118\n",
      "Edges attributes length:  10118\n"
     ]
    }
   ],
   "source": [
    "print(\"Nodes length: \", len(node_names))\n",
    "print(\"Edges length: \", len(edges))\n",
    "print(\"Edges attributes length: \", len(edges_attributes)) # This should be the same length as edges\n"
   ]
  },
  {
   "cell_type": "code",
   "execution_count": 16,
   "metadata": {},
   "outputs": [
    {
     "name": "stdout",
     "output_type": "stream",
     "text": [
      "First 5 nodes: ['A  Mackintosh Shaw', 'A  de Fullner', 'A , jun Ramsay', 'A A Stewart', 'A Ambrose']\n",
      "First 5 edges: [('Arthur William A Beckett', 'ASL'), ('Arthur William A Beckett', 'London'), ('Arthur William A Beckett', 'literary'), ('Andrew Mercer Adam', 'ASL'), ('Andrew Mercer Adam', 'armed services')]\n",
      "First 5 edges attributes: [('', ''), ('', ''), ('', ''), ('', ''), ('', '')]\n"
     ]
    }
   ],
   "source": [
    "print(\"First 5 nodes:\", node_names[0:5])\n",
    "print(\"First 5 edges:\", edges[0:5])\n",
    "print(\"First 5 edges attributes:\", edges_attributes[0:5])\n",
    "\n",
    "# The output will appear below this code cell.\n"
   ]
  },
  {
   "cell_type": "code",
   "execution_count": 17,
   "metadata": {},
   "outputs": [
    {
     "name": "stdout",
     "output_type": "stream",
     "text": [
      "Name: \n",
      "Type: Graph\n",
      "Number of nodes: 3609\n",
      "Number of edges: 10118\n",
      "Average degree:   5.6071\n"
     ]
    }
   ],
   "source": [
    "G = nx.Graph()\n",
    "G.add_nodes_from(node_names)\n",
    "G.add_edges_from(edges)\n",
    "print(nx.info(G))"
   ]
  },
  {
   "cell_type": "code",
   "execution_count": 18,
   "metadata": {},
   "outputs": [],
   "source": [
    "# Nodes\n",
    "religion_id_dict = {}\n",
    "birth_year_dict = {}\n",
    "death_year_dict = {}\n",
    "gender_id_dict = {}\n",
    "data_source_id_dict = {}\n",
    "\n",
    "# Edges\n",
    "first_year_dict = {}\n",
    "last_year_dict = {}"
   ]
  },
  {
   "cell_type": "code",
   "execution_count": 19,
   "metadata": {},
   "outputs": [],
   "source": [
    "for node in nodes: # Loop through the list, one row at a time\n",
    "    religion_id_dict[node[0]] = node[1]\n",
    "    birth_year_dict [node[0]] = node[2]\n",
    "    death_year_dict [node[0]] = node[3]\n",
    "    gender_id_dict [node[0]] = node[4]\n",
    "    data_source_id_dict [node[0]] = node[5]\n",
    "   "
   ]
  },
  {
   "cell_type": "code",
   "execution_count": 20,
   "metadata": {},
   "outputs": [],
   "source": [
    "for i, edge in enumerate(edges): # Loop through the list, one row at a time\n",
    "    first_year_dict [(edge[0], edge[1])] = edges_attributes[i][0]\n",
    "    last_year_dict [(edge[0], edge[1])] = edges_attributes[i][1]"
   ]
  },
  {
   "cell_type": "code",
   "execution_count": 21,
   "metadata": {},
   "outputs": [],
   "source": [
    "# print(first_year_dict)# list Source, target and first_year (all records). This shows the data that will be exported to Gephi.\n",
    "# print(len(first_year_dict))# At the end of the file print a count of all first_year check 3946)\n",
    "# print(len(last_year_dict))# At the end of the file print a count of all last_year check 3946)"
   ]
  },
  {
   "cell_type": "code",
   "execution_count": 22,
   "metadata": {},
   "outputs": [],
   "source": [
    "# Nodes\n",
    "nx.set_node_attributes(G, religion_id_dict, 'religion_id')\n",
    "nx.set_node_attributes(G, birth_year_dict, 'birth_year')\n",
    "nx.set_node_attributes(G, death_year_dict, 'death_year')\n",
    "nx.set_node_attributes(G, gender_id_dict, 'gender_id')\n",
    "nx.set_node_attributes(G, data_source_id_dict, 'data_source_id')\n",
    "\n",
    "# Edges\n",
    "nx.set_edge_attributes(G, first_year_dict, 'first_year')\n",
    "nx.set_edge_attributes(G, last_year_dict, 'last_year')"
   ]
  },
  {
   "cell_type": "code",
   "execution_count": 23,
   "metadata": {},
   "outputs": [],
   "source": [
    "# for n in G.nodes(): # Loop through every node, in our data \"n\" will be the name of the person\n",
    "#     print(n, G.nodes[n]['birth_year']) # Access every node by its name, and then by the attribute \"birth_year\""
   ]
  },
  {
   "cell_type": "code",
   "execution_count": 24,
   "metadata": {},
   "outputs": [],
   "source": [
    "# nx.write_gexf(G, 'all_data_e.gexf')\n"
   ]
  },
  {
   "cell_type": "markdown",
   "metadata": {},
   "source": [
    "<img src=\"quakers_dynamic.png\">"
   ]
  },
  {
   "cell_type": "code",
   "execution_count": null,
   "metadata": {},
   "outputs": [],
   "source": []
  },
  {
   "cell_type": "markdown",
   "metadata": {},
   "source": [
    "<img src=\"screenshot_hod.png\">"
   ]
  },
  {
   "cell_type": "code",
   "execution_count": null,
   "metadata": {},
   "outputs": [],
   "source": []
  },
  {
   "cell_type": "markdown",
   "metadata": {},
   "source": [
    "<img src=\"screenshot_hodgkin.png\">"
   ]
  },
  {
   "cell_type": "code",
   "execution_count": null,
   "metadata": {},
   "outputs": [],
   "source": []
  }
 ],
 "metadata": {
  "kernelspec": {
   "display_name": "Python 3",
   "language": "python",
   "name": "python3"
  },
  "language_info": {
   "codemirror_mode": {
    "name": "ipython",
    "version": 3
   },
   "file_extension": ".py",
   "mimetype": "text/x-python",
   "name": "python",
   "nbconvert_exporter": "python",
   "pygments_lexer": "ipython3",
   "version": "3.8.8"
  }
 },
 "nbformat": 4,
 "nbformat_minor": 4
}
